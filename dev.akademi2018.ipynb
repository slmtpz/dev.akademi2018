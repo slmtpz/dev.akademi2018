{
 "cells": [
  {
   "cell_type": "markdown",
   "metadata": {},
   "source": [
    "### dev.akademi2018 - Seleme Topuz"
   ]
  },
  {
   "cell_type": "code",
   "execution_count": 84,
   "metadata": {},
   "outputs": [],
   "source": [
    "import pandas as pd\n",
    "import numpy as np\n",
    "from sklearn.preprocessing import StandardScaler, OneHotEncoder\n",
    "from sklearn import tree, ensemble, metrics\n",
    "from sklearn.model_selection import train_test_split\n",
    "import matplotlib.pyplot as plt"
   ]
  },
  {
   "cell_type": "code",
   "execution_count": 7,
   "metadata": {},
   "outputs": [],
   "source": [
    "df = pd.read_json('all_data 3.json').set_index('id') # use 'id' column for indexing"
   ]
  },
  {
   "cell_type": "code",
   "execution_count": 8,
   "metadata": {},
   "outputs": [],
   "source": [
    "whole_data_count = len(df)"
   ]
  },
  {
   "cell_type": "code",
   "execution_count": 9,
   "metadata": {},
   "outputs": [
    {
     "data": {
      "text/html": [
       "<div>\n",
       "<style scoped>\n",
       "    .dataframe tbody tr th:only-of-type {\n",
       "        vertical-align: middle;\n",
       "    }\n",
       "\n",
       "    .dataframe tbody tr th {\n",
       "        vertical-align: top;\n",
       "    }\n",
       "\n",
       "    .dataframe thead th {\n",
       "        text-align: right;\n",
       "    }\n",
       "</style>\n",
       "<table border=\"1\" class=\"dataframe\">\n",
       "  <thead>\n",
       "    <tr style=\"text-align: right;\">\n",
       "      <th></th>\n",
       "      <th>ad_bid_price_kurus</th>\n",
       "      <th>ad_call_to_action</th>\n",
       "      <th>ad_daily_budget_kurus</th>\n",
       "      <th>ad_description</th>\n",
       "      <th>ad_id</th>\n",
       "      <th>ad_title</th>\n",
       "      <th>event_category</th>\n",
       "      <th>event_date</th>\n",
       "      <th>event_type</th>\n",
       "      <th>viewer_birt_year</th>\n",
       "      <th>viewer_education</th>\n",
       "      <th>viewer_gender</th>\n",
       "      <th>viewer_job</th>\n",
       "      <th>viewer_marital_status</th>\n",
       "      <th>viewer_user_city</th>\n",
       "      <th>viewer_user_id</th>\n",
       "    </tr>\n",
       "    <tr>\n",
       "      <th>id</th>\n",
       "      <th></th>\n",
       "      <th></th>\n",
       "      <th></th>\n",
       "      <th></th>\n",
       "      <th></th>\n",
       "      <th></th>\n",
       "      <th></th>\n",
       "      <th></th>\n",
       "      <th></th>\n",
       "      <th></th>\n",
       "      <th></th>\n",
       "      <th></th>\n",
       "      <th></th>\n",
       "      <th></th>\n",
       "      <th></th>\n",
       "      <th></th>\n",
       "    </tr>\n",
       "  </thead>\n",
       "  <tbody>\n",
       "    <tr>\n",
       "      <th>1</th>\n",
       "      <td>1000.0</td>\n",
       "      <td>8b36e9 6f041af</td>\n",
       "      <td>200000.0</td>\n",
       "      <td>8b36e9 ee1a793907 0ba 29c8ae3130 529230e5a4a 6...</td>\n",
       "      <td>10</td>\n",
       "      <td>6e809498e59 8b36e9 509f987 cc77d627 1650f9 d6badc</td>\n",
       "      <td>İkinci El ve Sıfır Alışveriş</td>\n",
       "      <td>1.514756e+09</td>\n",
       "      <td>IMPRESSION</td>\n",
       "      <td>1975.0</td>\n",
       "      <td>Üniversite</td>\n",
       "      <td>E</td>\n",
       "      <td>Özel Sektör</td>\n",
       "      <td>Evli</td>\n",
       "      <td>İstanbul</td>\n",
       "      <td>3622</td>\n",
       "    </tr>\n",
       "  </tbody>\n",
       "</table>\n",
       "</div>"
      ],
      "text/plain": [
       "    ad_bid_price_kurus ad_call_to_action  ad_daily_budget_kurus  \\\n",
       "id                                                                \n",
       "1               1000.0    8b36e9 6f041af               200000.0   \n",
       "\n",
       "                                       ad_description  ad_id  \\\n",
       "id                                                             \n",
       "1   8b36e9 ee1a793907 0ba 29c8ae3130 529230e5a4a 6...     10   \n",
       "\n",
       "                                             ad_title  \\\n",
       "id                                                      \n",
       "1   6e809498e59 8b36e9 509f987 cc77d627 1650f9 d6badc   \n",
       "\n",
       "                  event_category    event_date  event_type  viewer_birt_year  \\\n",
       "id                                                                             \n",
       "1   İkinci El ve Sıfır Alışveriş  1.514756e+09  IMPRESSION            1975.0   \n",
       "\n",
       "   viewer_education viewer_gender   viewer_job viewer_marital_status  \\\n",
       "id                                                                     \n",
       "1        Üniversite             E  Özel Sektör                  Evli   \n",
       "\n",
       "   viewer_user_city  viewer_user_id  \n",
       "id                                   \n",
       "1          İstanbul            3622  "
      ]
     },
     "execution_count": 9,
     "metadata": {},
     "output_type": "execute_result"
    }
   ],
   "source": [
    "df.head(1)"
   ]
  },
  {
   "cell_type": "markdown",
   "metadata": {},
   "source": [
    "# Data Cleaning"
   ]
  },
  {
   "cell_type": "markdown",
   "metadata": {},
   "source": [
    "### Unnecessary Data"
   ]
  },
  {
   "cell_type": "markdown",
   "metadata": {},
   "source": [
    "- If a document's event_type is CLICK, then the previous document where all the columns are same with CLICK'ed one but only event_type. We can delete that document with event_type 'IMPRESSION' since the ad worked and I will analyze IMPRESSION documents as failures."
   ]
  },
  {
   "cell_type": "code",
   "execution_count": 10,
   "metadata": {},
   "outputs": [],
   "source": [
    "click_indices = df[df.event_type == 'CLICK'].index\n",
    "drop_indices = list(map(lambda x: x-1, click_indices))\n",
    "df.drop(drop_indices, inplace=True)"
   ]
  },
  {
   "cell_type": "markdown",
   "metadata": {},
   "source": [
    "### Null Check"
   ]
  },
  {
   "cell_type": "code",
   "execution_count": 11,
   "metadata": {},
   "outputs": [
    {
     "name": "stdout",
     "output_type": "stream",
     "text": [
      "ad_bid_price_kurus 50\n",
      "ad_call_to_action 23\n",
      "ad_daily_budget_kurus 38\n",
      "ad_description 32\n",
      "ad_id 0\n",
      "ad_title 46\n",
      "event_category 32\n",
      "event_date 43\n",
      "event_type 37\n",
      "viewer_birt_year 40\n",
      "viewer_education 43\n",
      "viewer_gender 32\n",
      "viewer_job 28\n",
      "viewer_marital_status 39\n",
      "viewer_user_city 32\n",
      "viewer_user_id 0\n"
     ]
    }
   ],
   "source": [
    "for column in df.columns:\n",
    "    print(column, len(df[pd.isna(df[column])]))"
   ]
  },
  {
   "cell_type": "markdown",
   "metadata": {},
   "source": [
    "- Data has some corrupt data, this may imply that there are some bugs, but that's another issue for now.\n",
    "- Since the size data including null columns is quite small comparing to whole document count, I will just delete those rows and keep analyzing."
   ]
  },
  {
   "cell_type": "code",
   "execution_count": 12,
   "metadata": {},
   "outputs": [],
   "source": [
    "before_null_purify = df.shape[0]"
   ]
  },
  {
   "cell_type": "code",
   "execution_count": 13,
   "metadata": {},
   "outputs": [],
   "source": [
    "for column in df.columns:\n",
    "    df.drop(df[pd.isna(df[column])].index, inplace=True)"
   ]
  },
  {
   "cell_type": "code",
   "execution_count": 14,
   "metadata": {},
   "outputs": [],
   "source": [
    "after_null_purify = df.shape[0]"
   ]
  },
  {
   "cell_type": "code",
   "execution_count": 15,
   "metadata": {},
   "outputs": [],
   "source": [
    "total_null_deleted = before_null_purify-after_null_purify"
   ]
  },
  {
   "cell_type": "code",
   "execution_count": 16,
   "metadata": {},
   "outputs": [
    {
     "data": {
      "text/plain": [
       "(515, 0.5071043847297576)"
      ]
     },
     "execution_count": 16,
     "metadata": {},
     "output_type": "execute_result"
    }
   ],
   "source": [
    "total_null_deleted, (total_null_deleted / whole_data_count) * 100"
   ]
  },
  {
   "cell_type": "markdown",
   "metadata": {},
   "source": [
    "522 documents are deleted due to corruption. That's approximately 0.5% of whole data."
   ]
  },
  {
   "cell_type": "markdown",
   "metadata": {},
   "source": [
    "### Zero Check"
   ]
  },
  {
   "cell_type": "code",
   "execution_count": 17,
   "metadata": {},
   "outputs": [
    {
     "name": "stdout",
     "output_type": "stream",
     "text": [
      "ad_bid_price_kurus 28\n",
      "ad_call_to_action 41\n",
      "ad_daily_budget_kurus 40\n",
      "ad_description 46\n",
      "ad_id 0\n",
      "ad_title 36\n",
      "event_category 33\n",
      "event_date 48\n",
      "event_type 30\n",
      "viewer_birt_year 46\n",
      "viewer_education 31\n",
      "viewer_gender 34\n",
      "viewer_job 36\n",
      "viewer_marital_status 40\n",
      "viewer_user_city 39\n",
      "viewer_user_id 0\n"
     ]
    }
   ],
   "source": [
    "for column in df.columns:\n",
    "    if df[column].dtype == np.object:\n",
    "        print(column, len(df[df[column]==\"\"]))\n",
    "    else:\n",
    "        print(column, len(df[df[column]==0]))"
   ]
  },
  {
   "cell_type": "code",
   "execution_count": 18,
   "metadata": {},
   "outputs": [],
   "source": [
    "before_zero_purify = df.shape[0]"
   ]
  },
  {
   "cell_type": "code",
   "execution_count": 19,
   "metadata": {},
   "outputs": [],
   "source": [
    "for column in df.columns:\n",
    "    if df[column].dtype == np.object:\n",
    "        df.drop(df[df[column]==\"\"].index, inplace=True)\n",
    "    else:\n",
    "        df.drop(df[df[column]==0].index, inplace=True)"
   ]
  },
  {
   "cell_type": "code",
   "execution_count": 20,
   "metadata": {},
   "outputs": [],
   "source": [
    "after_zero_purify = df.shape[0]"
   ]
  },
  {
   "cell_type": "code",
   "execution_count": 21,
   "metadata": {},
   "outputs": [],
   "source": [
    "total_zero_deleted = before_zero_purify-after_zero_purify"
   ]
  },
  {
   "cell_type": "code",
   "execution_count": 22,
   "metadata": {},
   "outputs": [
    {
     "data": {
      "text/plain": [
       "(528, 0.5199050779365283)"
      ]
     },
     "execution_count": 22,
     "metadata": {},
     "output_type": "execute_result"
    }
   ],
   "source": [
    "(total_zero_deleted, (total_zero_deleted / whole_data_count) * 100)"
   ]
  },
  {
   "cell_type": "markdown",
   "metadata": {},
   "source": [
    "534 documents are deleted due to corruption. That's approximately 0.5% of whole data."
   ]
  },
  {
   "cell_type": "markdown",
   "metadata": {},
   "source": [
    "# Feature Extraction"
   ]
  },
  {
   "cell_type": "markdown",
   "metadata": {},
   "source": [
    "- This function will be used in the next part where I will be preprocessing the data. This function splits words in a string column, let's say 'the description'. After capturing all unique words in each descriptions, the function check if each word is included in a description or not so that we could know that a description store a special word. This is basically special version of pandas.get_dummies function. This simply extracts features from raw string data."
   ]
  },
  {
   "cell_type": "code",
   "execution_count": 23,
   "metadata": {},
   "outputs": [],
   "source": [
    "def get_word_dummies(df, column):\n",
    "    txed_df = pd.DataFrame(index=df.index)\n",
    "    splitted = pd.Series(df[column].str.split())\n",
    "    # get all words in a set\n",
    "    word_set = set()\n",
    "    for slist in list(splitted):\n",
    "        word_set.update(slist)\n",
    "    # iterate over all words and mark if a row contains it\n",
    "    for word in word_set:\n",
    "        srs = pd.Series(splitted.apply(lambda x: word in x)).replace(True, 1)\n",
    "        txed_df[word] = srs\n",
    "    return txed_df"
   ]
  },
  {
   "cell_type": "markdown",
   "metadata": {},
   "source": [
    "# Preprocessing"
   ]
  },
  {
   "cell_type": "code",
   "execution_count": 24,
   "metadata": {},
   "outputs": [],
   "source": [
    "NUMBERS = ['ad_bid_price_kurus', 'ad_daily_budget_kurus', 'event_date', 'viewer_birt_year'] # scaler\n",
    "CATEGOS_NUM = ['ad_id', 'viewer_user_id'] # one hot\n",
    "CATEGOS_STR = ['event_category', 'viewer_education', 'viewer_gender', 'viewer_job', 'viewer_user_city', 'viewer_marital_status'] # dummies\n",
    "STRINGS = ['ad_call_to_action', 'ad_description', 'ad_title'] # split\n",
    "LABEL = 'event_type'"
   ]
  },
  {
   "cell_type": "code",
   "execution_count": 25,
   "metadata": {},
   "outputs": [],
   "source": [
    "txed_data = {} # transformed data\n",
    "dummy_cats = {} # stores names of each categorical feature column"
   ]
  },
  {
   "cell_type": "code",
   "execution_count": 26,
   "metadata": {},
   "outputs": [],
   "source": [
    "for number_column in NUMBERS:\n",
    "    inpt = np.array(df[number_column]).reshape(-1,1)\n",
    "    txed = StandardScaler().fit_transform(inpt)\n",
    "    txed_data[number_column] = txed"
   ]
  },
  {
   "cell_type": "code",
   "execution_count": 27,
   "metadata": {},
   "outputs": [],
   "source": [
    "for categos_num_column in CATEGOS_NUM:\n",
    "    inpt = np.array(df[categos_num_column]).reshape(-1,1)\n",
    "    txed = OneHotEncoder(sparse=False).fit_transform(inpt)\n",
    "    txed_data[categos_num_column] = txed"
   ]
  },
  {
   "cell_type": "code",
   "execution_count": 28,
   "metadata": {},
   "outputs": [],
   "source": [
    "for categos_str_column in CATEGOS_STR:\n",
    "    txed = pd.get_dummies(df[categos_str_column])\n",
    "    dummy_cats[categos_str_column] = txed.columns\n",
    "    txed_data[categos_str_column] = np.array(txed)"
   ]
  },
  {
   "cell_type": "code",
   "execution_count": 29,
   "metadata": {},
   "outputs": [],
   "source": [
    "for string_column in STRINGS:\n",
    "    txed = get_word_dummies(df, string_column)\n",
    "    dummy_cats[string_column] = txed.columns\n",
    "    txed_data[string_column] = np.array(txed)"
   ]
  },
  {
   "cell_type": "code",
   "execution_count": 30,
   "metadata": {},
   "outputs": [],
   "source": [
    "# this is our label column, 1 means CLICK, 0 means IMPRESSION\n",
    "txed = pd.Series(df.event_type == 'CLICK').replace(True, 1)\n",
    "txed_data['event_type'] = np.array(txed)"
   ]
  },
  {
   "cell_type": "code",
   "execution_count": 31,
   "metadata": {},
   "outputs": [],
   "source": [
    "def prepare_data_set(features):\n",
    "    feature_counts = [] # stores column count for each feature preprocessed\n",
    "    feature_count = 0\n",
    "    data_to_stack = []\n",
    "    column_names = []\n",
    "    \n",
    "    for feature in features:\n",
    "        data_to_stack.append(txed_data[feature])\n",
    "        feature_count += txed_data[feature].shape[1]\n",
    "        feature_counts.append(feature_count)\n",
    "        \n",
    "        if feature in dummy_cats:\n",
    "            column_names.append(list(dummy_cats[feature]))\n",
    "        else:\n",
    "            column_names.append(feature)\n",
    "        \n",
    "    data_set = np.hstack(data_to_stack)\n",
    "    return data_set, column_names, feature_counts"
   ]
  },
  {
   "cell_type": "markdown",
   "metadata": {},
   "source": [
    "# Derivations with Machine Learning"
   ]
  },
  {
   "cell_type": "markdown",
   "metadata": {},
   "source": [
    "- I decided to use \"Decision Tree\" in most of my analyses as trees and their ensembles are very informative. They already generete feature importances for us."
   ]
  },
  {
   "cell_type": "code",
   "execution_count": 32,
   "metadata": {},
   "outputs": [],
   "source": [
    "y = txed_data['event_type']"
   ]
  },
  {
   "cell_type": "markdown",
   "metadata": {},
   "source": [
    "### Call to Action Words"
   ]
  },
  {
   "cell_type": "markdown",
   "metadata": {},
   "source": [
    "- Let's analyze which words in ad_call_to_action field have most impact on the outcome."
   ]
  },
  {
   "cell_type": "code",
   "execution_count": 33,
   "metadata": {},
   "outputs": [],
   "source": [
    "X, column_names, feature_counts = prepare_data_set(['ad_call_to_action'])\n",
    "\n",
    "dtc = tree.DecisionTreeClassifier()\n",
    "dtc.fit(X, y)\n",
    "\n",
    "importances = dtc.feature_importances_\n",
    "indices = np.argsort(importances)[::-1]"
   ]
  },
  {
   "cell_type": "code",
   "execution_count": 34,
   "metadata": {
    "scrolled": false
   },
   "outputs": [
    {
     "data": {
      "image/png": "[encoded data removed]",
      "text/plain": [
       "<matplotlib.figure.Figure at 0x1a48300978>"
      ]
     },
     "metadata": {},
     "output_type": "display_data"
    }
   ],
   "source": [
    "# Plot the feature importances of the forest\n",
    "top_n = 50\n",
    "plt.figure(figsize=(18,8))\n",
    "plt.title(\"ad_call_to_action feature importances\")\n",
    "plt.bar(range(X.shape[1])[:top_n], importances[indices][:top_n],\n",
    "       color=\"r\", align=\"center\")\n",
    "plt.xticks(range(X.shape[1])[:top_n], indices[:top_n])\n",
    "plt.show()"
   ]
  },
  {
   "cell_type": "markdown",
   "metadata": {},
   "source": [
    "- These are top 10 words from the most important to the least important in 'ad_call_to_action' field learnt by the decision tree."
   ]
  },
  {
   "cell_type": "code",
   "execution_count": 35,
   "metadata": {},
   "outputs": [
    {
     "data": {
      "text/plain": [
       "{1: 'c5221',\n",
       " 2: '230c29',\n",
       " 3: '0917',\n",
       " 4: '78869f',\n",
       " 5: '5c1453',\n",
       " 6: 'df10',\n",
       " 7: '73f3465',\n",
       " 8: '3612',\n",
       " 9: 'bd6ad4035bc35',\n",
       " 10: 'd70'}"
      ]
     },
     "execution_count": 35,
     "metadata": {},
     "output_type": "execute_result"
    }
   ],
   "source": [
    "dict(zip(range(1,11), np.array(column_names[0])[indices[:10]]))"
   ]
  },
  {
   "cell_type": "markdown",
   "metadata": {},
   "source": [
    "### Words in Ad Descriptions"
   ]
  },
  {
   "cell_type": "code",
   "execution_count": 36,
   "metadata": {},
   "outputs": [],
   "source": [
    "X, column_names, feature_counts = prepare_data_set(['ad_description'])\n",
    "\n",
    "dtc = tree.DecisionTreeClassifier()\n",
    "dtc.fit(X, y)\n",
    "\n",
    "importances = dtc.feature_importances_\n",
    "indices = np.argsort(importances)[::-1]"
   ]
  },
  {
   "cell_type": "code",
   "execution_count": 37,
   "metadata": {},
   "outputs": [
    {
     "data": {
      "image/png": "[encoded data removed]",
      "text/plain": [
       "<matplotlib.figure.Figure at 0x1a482c18d0>"
      ]
     },
     "metadata": {},
     "output_type": "display_data"
    }
   ],
   "source": [
    "# Plot the feature importances of the forest\n",
    "top_n = 50\n",
    "plt.figure(figsize=(18,8))\n",
    "plt.title(\"ad_description feature importances\")\n",
    "plt.bar(range(X.shape[1])[:top_n], importances[indices][:top_n],\n",
    "       color=\"r\", align=\"center\")\n",
    "plt.xticks(range(X.shape[1])[:top_n], indices[:top_n])\n",
    "plt.show()"
   ]
  },
  {
   "cell_type": "markdown",
   "metadata": {},
   "source": [
    "- These are top 10 words from the most important to the least important in 'ad_description' field learnt by the decision tree."
   ]
  },
  {
   "cell_type": "code",
   "execution_count": 38,
   "metadata": {
    "scrolled": true
   },
   "outputs": [
    {
     "data": {
      "text/plain": [
       "{1: '6950810f',\n",
       " 2: '2bfc53',\n",
       " 3: 'c5221',\n",
       " 4: 'f275b',\n",
       " 5: 'd1a4e',\n",
       " 6: '1fbd',\n",
       " 7: '26831b9f',\n",
       " 8: '89c674e9113',\n",
       " 9: '2c8aa',\n",
       " 10: '95cbcd2'}"
      ]
     },
     "execution_count": 38,
     "metadata": {},
     "output_type": "execute_result"
    }
   ],
   "source": [
    "dict(zip(range(1,11), np.array(column_names[0])[indices[:10]]))"
   ]
  },
  {
   "cell_type": "markdown",
   "metadata": {},
   "source": [
    "### Words in Ad Title"
   ]
  },
  {
   "cell_type": "code",
   "execution_count": 39,
   "metadata": {},
   "outputs": [],
   "source": [
    "X, column_names, feature_counts = prepare_data_set(['ad_title'])\n",
    "\n",
    "dtc = tree.DecisionTreeClassifier()\n",
    "dtc.fit(X, y)\n",
    "\n",
    "importances = dtc.feature_importances_\n",
    "indices = np.argsort(importances)[::-1]"
   ]
  },
  {
   "cell_type": "code",
   "execution_count": 40,
   "metadata": {},
   "outputs": [
    {
     "data": {
      "image/png": "[encoded data removed]",
      "text/plain": [
       "<matplotlib.figure.Figure at 0x1a480ed550>"
      ]
     },
     "metadata": {},
     "output_type": "display_data"
    }
   ],
   "source": [
    "# Plot the feature importances of the forest\n",
    "top_n = 50\n",
    "plt.figure(figsize=(18,8))\n",
    "plt.title(\"ad_title feature importances\")\n",
    "plt.bar(range(X.shape[1])[:top_n], importances[indices][:top_n],\n",
    "       color=\"r\", align=\"center\")\n",
    "plt.xticks(range(X.shape[1])[:top_n], indices[:top_n])\n",
    "plt.show()"
   ]
  },
  {
   "cell_type": "markdown",
   "metadata": {},
   "source": [
    "- These are top 10 words from the most important to the least important in 'ad_title' field learnt by the decision tree."
   ]
  },
  {
   "cell_type": "code",
   "execution_count": 41,
   "metadata": {},
   "outputs": [
    {
     "data": {
      "text/plain": [
       "{1: 'f275b',\n",
       " 2: 'a9',\n",
       " 3: '16e',\n",
       " 4: '89c674e9113',\n",
       " 5: '7dddce14',\n",
       " 6: '1af9e409',\n",
       " 7: '7998422bce7',\n",
       " 8: '7a331bcb3',\n",
       " 9: '7a9',\n",
       " 10: '9ee92'}"
      ]
     },
     "execution_count": 41,
     "metadata": {},
     "output_type": "execute_result"
    }
   ],
   "source": [
    "dict(zip(range(1,11), np.array(column_names[0])[indices[:10]]))"
   ]
  },
  {
   "cell_type": "markdown",
   "metadata": {},
   "source": [
    "### Viewer Information"
   ]
  },
  {
   "cell_type": "code",
   "execution_count": 42,
   "metadata": {},
   "outputs": [],
   "source": [
    "viewer_features = ['viewer_birt_year', 'viewer_education', 'viewer_gender',\n",
    "                                            'viewer_job', 'viewer_marital_status', 'viewer_user_city']\n",
    "X, column_names, feature_counts = prepare_data_set(viewer_features)\n",
    "\n",
    "dtc = tree.DecisionTreeClassifier()\n",
    "dtc.fit(X, y)\n",
    "\n",
    "importances = dtc.feature_importances_\n",
    "indices = np.argsort(importances)[::-1]"
   ]
  },
  {
   "cell_type": "code",
   "execution_count": 44,
   "metadata": {},
   "outputs": [
    {
     "data": {
      "text/plain": [
       "{'viewer_birt_year': 0.3387535764176388,\n",
       " 'viewer_education': 0.12063175836595613,\n",
       " 'viewer_gender': 0.05972447685693553,\n",
       " 'viewer_job': 0.13671061040911578,\n",
       " 'viewer_marital_status': 0.12315765097823084,\n",
       " 'viewer_user_city': 0.22102192697212283}"
      ]
     },
     "execution_count": 44,
     "metadata": {},
     "output_type": "execute_result"
    }
   ],
   "source": [
    "totals = []\n",
    "prev = 0\n",
    "for feature_count in feature_counts:\n",
    "    totals.append(sum(dtc.feature_importances_[prev:feature_count]))\n",
    "    prev = feature_count\n",
    "dict(zip(viewer_features, totals))"
   ]
  },
  {
   "cell_type": "code",
   "execution_count": 45,
   "metadata": {},
   "outputs": [
    {
     "data": {
      "image/png": "[encoded data removed]",
      "text/plain": [
       "<matplotlib.figure.Figure at 0x1a47e777f0>"
      ]
     },
     "metadata": {},
     "output_type": "display_data"
    }
   ],
   "source": [
    "importances = np.array(totals)\n",
    "indices = np.argsort(importances)[::-1]\n",
    "# Plot the feature importances of the forest\n",
    "top_n = 6\n",
    "plt.figure(figsize=(18,8))\n",
    "plt.title(\"Viewer feature importances\")\n",
    "plt.bar(range(X.shape[1])[:top_n], importances[indices][:top_n],\n",
    "       color=\"r\", align=\"center\")\n",
    "plt.xticks(range(X.shape[1])[:top_n], np.array(viewer_features)[indices[:top_n]])\n",
    "plt.show()"
   ]
  },
  {
   "cell_type": "markdown",
   "metadata": {},
   "source": [
    "- We can see from here that, marital status and birth year do not matter that much comparing to the city and the gender of the view."
   ]
  },
  {
   "cell_type": "code",
   "execution_count": 46,
   "metadata": {},
   "outputs": [
    {
     "data": {
      "image/png": "[encoded data removed]",
      "text/plain": [
       "<matplotlib.figure.Figure at 0x1a47e695f8>"
      ]
     },
     "metadata": {},
     "output_type": "display_data"
    }
   ],
   "source": [
    "i = 5 # 5th feature is indicating city\n",
    "importances = np.array(dtc.feature_importances_[feature_counts[i-1]+1:feature_counts[i]+1])\n",
    "indices = np.argsort(importances)[::-1]\n",
    "# Plot the feature importances of the forest\n",
    "top_n = 20\n",
    "plt.figure(figsize=(18,8))\n",
    "plt.title(\"Viewer feature importances\")\n",
    "plt.bar(range(X.shape[1])[:top_n], importances[indices][:top_n],\n",
    "       color=\"r\", align=\"center\")\n",
    "plt.xticks(range(X.shape[1])[:top_n], np.array(column_names[i])[indices[:top_n]])\n",
    "plt.show()"
   ]
  },
  {
   "cell_type": "markdown",
   "metadata": {},
   "source": [
    "- We can see overall top-20 city importance on clicked ads."
   ]
  },
  {
   "cell_type": "markdown",
   "metadata": {},
   "source": [
    "### Importance of the other features"
   ]
  },
  {
   "cell_type": "code",
   "execution_count": 47,
   "metadata": {},
   "outputs": [],
   "source": [
    "def train_and_print_importances(features):\n",
    "    X, column_names, feature_counts = prepare_data_set(features)\n",
    "    rfc = tree.DecisionTreeClassifier()\n",
    "    rfc.fit(X, y)\n",
    "    totals = []\n",
    "    prev = 0\n",
    "    for feature_count in feature_counts:\n",
    "        totals.append(sum(rfc.feature_importances_[prev:feature_count]))\n",
    "        prev = feature_count\n",
    "    return(list(zip(features, totals)))"
   ]
  },
  {
   "cell_type": "code",
   "execution_count": 48,
   "metadata": {},
   "outputs": [
    {
     "data": {
      "text/plain": [
       "[('ad_bid_price_kurus', 0.01423342927649856),\n",
       " ('ad_daily_budget_kurus', 0.012378829477214496),\n",
       " ('event_category', 0.006211997034429866),\n",
       " ('event_date', 0.9671757442118571)]"
      ]
     },
     "execution_count": 48,
     "metadata": {},
     "output_type": "execute_result"
    }
   ],
   "source": [
    "train_and_print_importances(['ad_bid_price_kurus', 'ad_daily_budget_kurus', 'event_category', 'event_date'])"
   ]
  },
  {
   "cell_type": "markdown",
   "metadata": {},
   "source": [
    "- event_date is surprisingly high. We need to analyze this."
   ]
  },
  {
   "cell_type": "code",
   "execution_count": 50,
   "metadata": {},
   "outputs": [
    {
     "data": {
      "text/plain": [
       "[<matplotlib.lines.Line2D at 0x1a47d23128>]"
      ]
     },
     "execution_count": 50,
     "metadata": {},
     "output_type": "execute_result"
    },
    {
     "data": {
      "image/png": "[encoded data removed]",
      "text/plain": [
       "<matplotlib.figure.Figure at 0x1a47d63b00>"
      ]
     },
     "metadata": {},
     "output_type": "display_data"
    }
   ],
   "source": [
    "plt.figure(figsize=(18,2))\n",
    "plt.plot(df.event_date, txed)"
   ]
  },
  {
   "cell_type": "markdown",
   "metadata": {},
   "source": [
    "- It turns out there is a gap in data considering chronogically."
   ]
  },
  {
   "cell_type": "code",
   "execution_count": null,
   "metadata": {},
   "outputs": [],
   "source": []
  },
  {
   "cell_type": "code",
   "execution_count": null,
   "metadata": {},
   "outputs": [],
   "source": []
  },
  {
   "cell_type": "code",
   "execution_count": null,
   "metadata": {},
   "outputs": [],
   "source": [
    "rfc = tree.DecisionTreeClassifier()\n",
    "rfc.fit(X, y)"
   ]
  },
  {
   "cell_type": "code",
   "execution_count": null,
   "metadata": {},
   "outputs": [],
   "source": [
    "totals = []\n",
    "prev = 0\n",
    "for feature_count in feature_counts:\n",
    "    totals.append(sum(rfc.feature_importances_[prev:feature_count]))\n",
    "    prev = feature_count"
   ]
  },
  {
   "cell_type": "code",
   "execution_count": null,
   "metadata": {},
   "outputs": [],
   "source": []
  },
  {
   "cell_type": "code",
   "execution_count": null,
   "metadata": {},
   "outputs": [],
   "source": []
  },
  {
   "cell_type": "code",
   "execution_count": null,
   "metadata": {},
   "outputs": [],
   "source": []
  },
  {
   "cell_type": "code",
   "execution_count": null,
   "metadata": {},
   "outputs": [],
   "source": []
  },
  {
   "cell_type": "code",
   "execution_count": 99,
   "metadata": {},
   "outputs": [],
   "source": [
    "features = ['ad_bid_price_kurus', 'ad_call_to_action', 'ad_daily_budget_kurus', 'event_category', \n",
    "            'viewer_birt_year', 'viewer_education', 'viewer_gender',\n",
    "            'viewer_job', 'viewer_marital_status']\n",
    "X, column_names, feature_counts = prepare_data_set(features)"
   ]
  },
  {
   "cell_type": "code",
   "execution_count": 100,
   "metadata": {},
   "outputs": [],
   "source": [
    "weights = {0: 1, 1: 75}\n",
    "sample_weights = [weights[x] for x in y]"
   ]
  },
  {
   "cell_type": "code",
   "execution_count": 101,
   "metadata": {},
   "outputs": [],
   "source": [
    "X_train, X_test, y_train, y_test, sample_weights_train, sample_weights_test = train_test_split(X, y, sample_weights, test_size=0.2, random_state=42)"
   ]
  },
  {
   "cell_type": "code",
   "execution_count": 102,
   "metadata": {},
   "outputs": [],
   "source": [
    "lr = linear_model.LogisticRegression(tol=1e-10, max_iter=10000)"
   ]
  },
  {
   "cell_type": "code",
   "execution_count": 103,
   "metadata": {},
   "outputs": [
    {
     "data": {
      "text/plain": [
       "LogisticRegression(C=1.0, class_weight=None, dual=False, fit_intercept=True,\n",
       "          intercept_scaling=1, max_iter=10000, multi_class='ovr', n_jobs=1,\n",
       "          penalty='l2', random_state=None, solver='liblinear', tol=1e-10,\n",
       "          verbose=0, warm_start=False)"
      ]
     },
     "execution_count": 103,
     "metadata": {},
     "output_type": "execute_result"
    }
   ],
   "source": [
    "lr.fit(X_train, y_train)"
   ]
  },
  {
   "cell_type": "code",
   "execution_count": 104,
   "metadata": {},
   "outputs": [
    {
     "data": {
      "text/plain": [
       "0.5"
      ]
     },
     "execution_count": 104,
     "metadata": {},
     "output_type": "execute_result"
    }
   ],
   "source": [
    "lr.score(X_test, y_test, sample_weights_test)"
   ]
  },
  {
   "cell_type": "code",
   "execution_count": null,
   "metadata": {},
   "outputs": [],
   "source": [
    "print(metrics.classification_report(rfc.predict(X_test), y_test))"
   ]
  },
  {
   "cell_type": "markdown",
   "metadata": {},
   "source": [
    "'viewer_user_id' 6k\n",
    "'ad_id' 200"
   ]
  },
  {
   "cell_type": "markdown",
   "metadata": {},
   "source": [
    "# debug"
   ]
  },
  {
   "cell_type": "code",
   "execution_count": null,
   "metadata": {},
   "outputs": [],
   "source": [
    "splitted = pd.Series(df['ad_call_to_action'].str.split())\n",
    "a=df.loc[np.array(splitted.apply(lambda x: '230c29' in x))]\n",
    "a[a.event_type=='CLICK'].shape"
   ]
  }
 ],
 "metadata": {
  "kernelspec": {
   "display_name": "Python 3",
   "language": "python",
   "name": "python3"
  },
  "language_info": {
   "codemirror_mode": {
    "name": "ipython",
    "version": 3
   },
   "file_extension": ".py",
   "mimetype": "text/x-python",
   "name": "python",
   "nbconvert_exporter": "python",
   "pygments_lexer": "ipython3",
   "version": "3.6.4"
  }
 },
 "nbformat": 4,
 "nbformat_minor": 2
}
